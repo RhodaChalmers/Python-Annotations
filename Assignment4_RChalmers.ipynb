{
 "cells": [
  {
   "cell_type": "code",
   "execution_count": 11,
   "id": "2b6f63ee",
   "metadata": {},
   "outputs": [
    {
     "ename": "SyntaxError",
     "evalue": "invalid syntax (1728035297.py, line 2)",
     "output_type": "error",
     "traceback": [
      "\u001b[1;36m  File \u001b[1;32m\"C:\\Users\\rhoch\\AppData\\Local\\Temp\\ipykernel_22328\\1728035297.py\"\u001b[1;36m, line \u001b[1;32m2\u001b[0m\n\u001b[1;33m    ```python annotate```\u001b[0m\n\u001b[1;37m    ^\u001b[0m\n\u001b[1;31mSyntaxError\u001b[0m\u001b[1;31m:\u001b[0m invalid syntax\n"
     ]
    }
   ],
   "source": [
    "\n",
    "# The above lines throw INVALID SYNTAX ERRORS IN JUPYTER NOTEBOOKS\n",
    "# I have commented them out for my notebook, but will attempt to try in GitHub w/o comment\n",
    "\n",
    "# Code Annotation for Python with Annotation for GitHub\n",
    "#  GitHub article: https://docs.github.com/en/contributing/writing-for-github-docs/annotating-code-examples"
   ]
  },
  {
   "cell_type": "code",
   "execution_count": 7,
   "id": "95cf03cd",
   "metadata": {},
   "outputs": [
    {
     "name": "stdout",
     "output_type": "stream",
     "text": [
      "What codes can be used to program servers with?\n",
      "\t Java\n",
      "\t JavaScript\n",
      "\t Python\n",
      "According to Infrastructure as Code\n"
     ]
    }
   ],
   "source": [
    "# Function to print string variables\n",
    "def assignment4() -> None:\n",
    "    a: str = \"What codes can be used to program servers with?\"\n",
    "    b: str = \"Java\"\n",
    "    c: str = \"JavaScript\"\n",
    "    d: str = \"Python\"\n",
    "    e: str = \"According to Infrastructure as Code\"\n",
    "    print(a)\n",
    "    print(\"\\t\", b)\n",
    "    print(\"\\t\", c)\n",
    "    print(\"\\t\", d)\n",
    "    print(e)\n",
    "    \n",
    "# Run function\n",
    "assignment4()"
   ]
  }
 ],
 "metadata": {
  "kernelspec": {
   "display_name": "Python 3 (ipykernel)",
   "language": "python",
   "name": "python3"
  },
  "language_info": {
   "codemirror_mode": {
    "name": "ipython",
    "version": 3
   },
   "file_extension": ".py",
   "mimetype": "text/x-python",
   "name": "python",
   "nbconvert_exporter": "python",
   "pygments_lexer": "ipython3",
   "version": "3.9.16"
  }
 },
 "nbformat": 4,
 "nbformat_minor": 5
}
