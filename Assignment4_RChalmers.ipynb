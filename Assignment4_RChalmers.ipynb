```python

# Function to print string variables
def assignment4() -> None:
    a: str = "What codes can be used to program servers with?"
    b: str = "Java"
    c: str = "JavaScript"
    d: str = "Python"
    e: str = "According to Infrastructure as Code"
    print(a)
    print("\t", b)
    print("\t", c)
    print("\t", d)
    print(e)
    
# Run function
assignment4()
