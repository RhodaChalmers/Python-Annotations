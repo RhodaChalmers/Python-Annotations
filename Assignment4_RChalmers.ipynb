{
 "cells": [
  {
   "cell_type": "code",
   "execution_count": 10,
   "id": "0adf2cb2",
   "metadata": {},
   "outputs": [],
   "source": [
    "# layout: inline\n",
    "# ```python annotate```\n",
    "# The above lines throw INVALID SYNTAX ERRORS IN JUPYTER NOTEBOOKS\n",
    "# I have commented them out for my notebook, but will attempt to try in GitHub\n",
    "\n",
    "# Code Annotation for Python with Annotation for GitHub\n",
    "#  GitHub article: https://docs.github.com/en/contributing/writing-for-github-docs/annotating-code-examples"
   ]
  },
  {
   "cell_type": "code",
   "execution_count": 7,
   "id": "badfc6ba",
   "metadata": {},
   "outputs": [
    {
     "name": "stdout",
     "output_type": "stream",
     "text": [
      "What codes can be used to program servers with?\n",
      "\t Java\n",
      "\t JavaScript\n",
      "\t Python\n",
      "According to Infrastructure as Code\n"
     ]
    }
   ],
   "source": [
    "# Function to print string variables\n",
    "def assignment4() -> None:\n",
    "    a: str = \"What codes can be used to program servers with?\"\n",
    "    b: str = \"Java\"\n",
    "    c: str = \"JavaScript\"\n",
    "    d: str = \"Python\"\n",
    "    e: str = \"According to Infrastructure as Code\"\n",
    "    print(a)\n",
    "    print(\"\\t\", b)\n",
    "    print(\"\\t\", c)\n",
    "    print(\"\\t\", d)\n",
    "    print(e)\n",
    "    \n",
    "# Run function\n",
    "assignment4()"
   ]
  }
 ],
 "metadata": {
  "kernelspec": {
   "display_name": "Python 3 (ipykernel)",
   "language": "python",
   "name": "python3"
  },
  "language_info": {
   "codemirror_mode": {
    "name": "ipython",
    "version": 3
   },
   "file_extension": ".py",
   "mimetype": "text/x-python",
   "name": "python",
   "nbconvert_exporter": "python",
   "pygments_lexer": "ipython3",
   "version": "3.9.16"
  }
 },
 "nbformat": 4,
 "nbformat_minor": 5
}
